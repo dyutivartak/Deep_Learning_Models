{
  "nbformat": 4,
  "nbformat_minor": 0,
  "metadata": {
    "colab": {
      "provenance": [],
      "authorship_tag": "ABX9TyPghi8csn3YukHF506bp5It",
      "include_colab_link": true
    },
    "kernelspec": {
      "name": "python3",
      "display_name": "Python 3"
    },
    "language_info": {
      "name": "python"
    }
  },
  "cells": [
    {
      "cell_type": "markdown",
      "metadata": {
        "id": "view-in-github",
        "colab_type": "text"
      },
      "source": [
        "<a href=\"https://colab.research.google.com/github/dyutivartak/ML-II_Pracs/blob/main/LSTM.ipynb\" target=\"_parent\"><img src=\"https://colab.research.google.com/assets/colab-badge.svg\" alt=\"Open In Colab\"/></a>"
      ]
    },
    {
      "cell_type": "code",
      "execution_count": 1,
      "metadata": {
        "id": "AfbO9b448mXP"
      },
      "outputs": [],
      "source": [
        "import numpy\n",
        "from keras.datasets import imdb\n",
        "from keras.models import Sequential\n",
        "from keras.layers import Dense\n",
        "from keras.layers import LSTM\n",
        "from keras.layers import Embedding\n",
        "from keras.preprocessing import sequence\n",
        "from keras_preprocessing.sequence import pad_sequences"
      ]
    },
    {
      "cell_type": "code",
      "source": [
        "top_words = 5000\n",
        "(X_train, y_train), (X_test, y_test) = imdb.load_data(num_words=top_words)"
      ],
      "metadata": {
        "colab": {
          "base_uri": "https://localhost:8080/"
        },
        "id": "MZa1VUN08o8o",
        "outputId": "c7c3f619-cb22-4301-b2b2-946d1b8e3221"
      },
      "execution_count": 2,
      "outputs": [
        {
          "output_type": "stream",
          "name": "stdout",
          "text": [
            "Downloading data from https://storage.googleapis.com/tensorflow/tf-keras-datasets/imdb.npz\n",
            "17464789/17464789 [==============================] - 0s 0us/step\n"
          ]
        }
      ]
    },
    {
      "cell_type": "code",
      "source": [
        "print(X_train[1])\n",
        "print(type(X_train[1]))\n",
        "print(len(X_train[1]))\n",
        "print(y_train[1])\n",
        "print(type(y_train[1]))"
      ],
      "metadata": {
        "colab": {
          "base_uri": "https://localhost:8080/"
        },
        "id": "9TXxWwzJ8q0h",
        "outputId": "e206883c-a00f-4f46-b4b5-a4fab15578da"
      },
      "execution_count": 3,
      "outputs": [
        {
          "output_type": "stream",
          "name": "stdout",
          "text": [
            "[1, 194, 1153, 194, 2, 78, 228, 5, 6, 1463, 4369, 2, 134, 26, 4, 715, 8, 118, 1634, 14, 394, 20, 13, 119, 954, 189, 102, 5, 207, 110, 3103, 21, 14, 69, 188, 8, 30, 23, 7, 4, 249, 126, 93, 4, 114, 9, 2300, 1523, 5, 647, 4, 116, 9, 35, 2, 4, 229, 9, 340, 1322, 4, 118, 9, 4, 130, 4901, 19, 4, 1002, 5, 89, 29, 952, 46, 37, 4, 455, 9, 45, 43, 38, 1543, 1905, 398, 4, 1649, 26, 2, 5, 163, 11, 3215, 2, 4, 1153, 9, 194, 775, 7, 2, 2, 349, 2637, 148, 605, 2, 2, 15, 123, 125, 68, 2, 2, 15, 349, 165, 4362, 98, 5, 4, 228, 9, 43, 2, 1157, 15, 299, 120, 5, 120, 174, 11, 220, 175, 136, 50, 9, 4373, 228, 2, 5, 2, 656, 245, 2350, 5, 4, 2, 131, 152, 491, 18, 2, 32, 2, 1212, 14, 9, 6, 371, 78, 22, 625, 64, 1382, 9, 8, 168, 145, 23, 4, 1690, 15, 16, 4, 1355, 5, 28, 6, 52, 154, 462, 33, 89, 78, 285, 16, 145, 95]\n",
            "<class 'list'>\n",
            "189\n",
            "0\n",
            "<class 'numpy.int64'>\n"
          ]
        }
      ]
    },
    {
      "cell_type": "code",
      "source": [
        "max_review_length = 400\n",
        "X_train = pad_sequences(X_train, maxlen=max_review_length)\n",
        "X_test = pad_sequences(X_test, maxlen=max_review_length)\n",
        "\n",
        "print(X_train.shape)\n",
        "print(X_train[1])"
      ],
      "metadata": {
        "colab": {
          "base_uri": "https://localhost:8080/"
        },
        "id": "Rn6PmtF48sD4",
        "outputId": "09594c09-0d04-4a2f-d97f-d9b3adafc11f"
      },
      "execution_count": 4,
      "outputs": [
        {
          "output_type": "stream",
          "name": "stdout",
          "text": [
            "(25000, 400)\n",
            "[   0    0    0    0    0    0    0    0    0    0    0    0    0    0\n",
            "    0    0    0    0    0    0    0    0    0    0    0    0    0    0\n",
            "    0    0    0    0    0    0    0    0    0    0    0    0    0    0\n",
            "    0    0    0    0    0    0    0    0    0    0    0    0    0    0\n",
            "    0    0    0    0    0    0    0    0    0    0    0    0    0    0\n",
            "    0    0    0    0    0    0    0    0    0    0    0    0    0    0\n",
            "    0    0    0    0    0    0    0    0    0    0    0    0    0    0\n",
            "    0    0    0    0    0    0    0    0    0    0    0    0    0    0\n",
            "    0    0    0    0    0    0    0    0    0    0    0    0    0    0\n",
            "    0    0    0    0    0    0    0    0    0    0    0    0    0    0\n",
            "    0    0    0    0    0    0    0    0    0    0    0    0    0    0\n",
            "    0    0    0    0    0    0    0    0    0    0    0    0    0    0\n",
            "    0    0    0    0    0    0    0    0    0    0    0    0    0    0\n",
            "    0    0    0    0    0    0    0    0    0    0    0    0    0    0\n",
            "    0    0    0    0    0    0    0    0    0    0    0    0    0    0\n",
            "    0    1  194 1153  194    2   78  228    5    6 1463 4369    2  134\n",
            "   26    4  715    8  118 1634   14  394   20   13  119  954  189  102\n",
            "    5  207  110 3103   21   14   69  188    8   30   23    7    4  249\n",
            "  126   93    4  114    9 2300 1523    5  647    4  116    9   35    2\n",
            "    4  229    9  340 1322    4  118    9    4  130 4901   19    4 1002\n",
            "    5   89   29  952   46   37    4  455    9   45   43   38 1543 1905\n",
            "  398    4 1649   26    2    5  163   11 3215    2    4 1153    9  194\n",
            "  775    7    2    2  349 2637  148  605    2    2   15  123  125   68\n",
            "    2    2   15  349  165 4362   98    5    4  228    9   43    2 1157\n",
            "   15  299  120    5  120  174   11  220  175  136   50    9 4373  228\n",
            "    2    5    2  656  245 2350    5    4    2  131  152  491   18    2\n",
            "   32    2 1212   14    9    6  371   78   22  625   64 1382    9    8\n",
            "  168  145   23    4 1690   15   16    4 1355    5   28    6   52  154\n",
            "  462   33   89   78  285   16  145   95]\n"
          ]
        }
      ]
    },
    {
      "cell_type": "code",
      "source": [
        "import tensorflow as tf\n",
        "embedding_vector_length = 32\n",
        "model = Sequential()\n",
        "model.add(Embedding(top_words + 1, embedding_vector_length, input_length=max_review_length))\n",
        "model.add(LSTM(10))\n",
        "model.add(Dense(1, activation='sigmoid'))"
      ],
      "metadata": {
        "id": "Dmh43cru8tnK"
      },
      "execution_count": 5,
      "outputs": []
    },
    {
      "cell_type": "code",
      "source": [
        "model.compile(loss='binary_crossentropy', optimizer='adam', metrics=['accuracy'])\n",
        "model.summary()"
      ],
      "metadata": {
        "colab": {
          "base_uri": "https://localhost:8080/"
        },
        "id": "vuAPcZ458x9e",
        "outputId": "6179a4bc-318b-453f-8b3f-6cad35a18ab0"
      },
      "execution_count": 6,
      "outputs": [
        {
          "output_type": "stream",
          "name": "stdout",
          "text": [
            "Model: \"sequential\"\n",
            "_________________________________________________________________\n",
            " Layer (type)                Output Shape              Param #   \n",
            "=================================================================\n",
            " embedding (Embedding)       (None, 400, 32)           160032    \n",
            "                                                                 \n",
            " lstm (LSTM)                 (None, 10)                1720      \n",
            "                                                                 \n",
            " dense (Dense)               (None, 1)                 11        \n",
            "                                                                 \n",
            "=================================================================\n",
            "Total params: 161,763\n",
            "Trainable params: 161,763\n",
            "Non-trainable params: 0\n",
            "_________________________________________________________________\n"
          ]
        }
      ]
    },
    {
      "cell_type": "code",
      "source": [
        "hist=model.fit(X_train, y_train, epochs=10, batch_size=256,verbose=1, validation_data=(X_test,y_test))\n",
        "scores = model.evaluate(X_test, y_test, verbose=0)\n",
        "print(\"Accuracy: %.2f%%\" % (scores[1]*100))"
      ],
      "metadata": {
        "colab": {
          "base_uri": "https://localhost:8080/"
        },
        "id": "hhl0SiU88z5z",
        "outputId": "bb9d85d1-96d5-4c38-b8f9-1b7d9fa63a0f"
      },
      "execution_count": 7,
      "outputs": [
        {
          "output_type": "stream",
          "name": "stdout",
          "text": [
            "Epoch 1/10\n",
            "98/98 [==============================] - 34s 317ms/step - loss: 0.6111 - accuracy: 0.7096 - val_loss: 0.5209 - val_accuracy: 0.7664\n",
            "Epoch 2/10\n",
            "98/98 [==============================] - 30s 312ms/step - loss: 0.4186 - accuracy: 0.8408 - val_loss: 0.3880 - val_accuracy: 0.8476\n",
            "Epoch 3/10\n",
            "98/98 [==============================] - 30s 304ms/step - loss: 0.3499 - accuracy: 0.8673 - val_loss: 0.4151 - val_accuracy: 0.8200\n",
            "Epoch 4/10\n",
            "98/98 [==============================] - 29s 300ms/step - loss: 0.3393 - accuracy: 0.8663 - val_loss: 0.3795 - val_accuracy: 0.8394\n",
            "Epoch 5/10\n",
            "98/98 [==============================] - 33s 334ms/step - loss: 0.2921 - accuracy: 0.8910 - val_loss: 0.3481 - val_accuracy: 0.8587\n",
            "Epoch 6/10\n",
            "98/98 [==============================] - 41s 416ms/step - loss: 0.2583 - accuracy: 0.9078 - val_loss: 0.3494 - val_accuracy: 0.8586\n",
            "Epoch 7/10\n",
            "98/98 [==============================] - 35s 359ms/step - loss: 0.2325 - accuracy: 0.9190 - val_loss: 0.3487 - val_accuracy: 0.8604\n",
            "Epoch 8/10\n",
            "98/98 [==============================] - 30s 302ms/step - loss: 0.2127 - accuracy: 0.9280 - val_loss: 0.3462 - val_accuracy: 0.8642\n",
            "Epoch 9/10\n",
            "98/98 [==============================] - 30s 307ms/step - loss: 0.1949 - accuracy: 0.9366 - val_loss: 0.3549 - val_accuracy: 0.8620\n",
            "Epoch 10/10\n",
            "98/98 [==============================] - 30s 305ms/step - loss: 0.1882 - accuracy: 0.9379 - val_loss: 0.3537 - val_accuracy: 0.8671\n",
            "Accuracy: 86.71%\n"
          ]
        }
      ]
    },
    {
      "cell_type": "code",
      "source": [
        "import matplotlib.pyplot as plt\n",
        "y1=hist.history['accuracy']\n",
        "y2=hist.history['val_accuracy']\n",
        "plt.plot(y1)\n",
        "plt.plot(y2)"
      ],
      "metadata": {
        "colab": {
          "base_uri": "https://localhost:8080/",
          "height": 283
        },
        "id": "lq291I0584ni",
        "outputId": "29b77636-9f95-4976-b388-b8b29325c537"
      },
      "execution_count": 8,
      "outputs": [
        {
          "output_type": "execute_result",
          "data": {
            "text/plain": [
              "[<matplotlib.lines.Line2D at 0x7f1c29b70490>]"
            ]
          },
          "metadata": {},
          "execution_count": 8
        },
        {
          "output_type": "display_data",
          "data": {
            "text/plain": [
              "<Figure size 432x288 with 1 Axes>"
            ],
            "image/png": "[encoded data removed]"
          },
          "metadata": {
            "needs_background": "light"
          }
        }
      ]
    },
    {
      "cell_type": "code",
      "source": [
        "import matplotlib.pyplot as plt\n",
        "y1=hist.history['loss']\n",
        "y2=hist.history['val_loss']\n",
        "plt.plot(y1)\n",
        "plt.plot(y2)"
      ],
      "metadata": {
        "colab": {
          "base_uri": "https://localhost:8080/",
          "height": 283
        },
        "id": "soRnaB6286aL",
        "outputId": "8f1f5b98-dfac-494e-bbb0-334c05a161d8"
      },
      "execution_count": 9,
      "outputs": [
        {
          "output_type": "execute_result",
          "data": {
            "text/plain": [
              "[<matplotlib.lines.Line2D at 0x7f1c2947b6d0>]"
            ]
          },
          "metadata": {},
          "execution_count": 9
        },
        {
          "output_type": "display_data",
          "data": {
            "text/plain": [
              "<Figure size 432x288 with 1 Axes>"
            ],
            "image/png": "[encoded data removed]"
          },
          "metadata": {
            "needs_background": "light"
          }
        }
      ]
    },
    {
      "cell_type": "code",
      "source": [
        "pred=model.predict(X_test)\n",
        "print(pred)"
      ],
      "metadata": {
        "colab": {
          "base_uri": "https://localhost:8080/"
        },
        "id": "TW3q5xhO9eM2",
        "outputId": "e9d1b1fb-48eb-45a5-bfe1-6c14ec084b90"
      },
      "execution_count": 10,
      "outputs": [
        {
          "output_type": "stream",
          "name": "stdout",
          "text": [
            "782/782 [==============================] - 21s 26ms/step\n",
            "[[0.06608769]\n",
            " [0.9720952 ]\n",
            " [0.8715396 ]\n",
            " ...\n",
            " [0.05281102]\n",
            " [0.5225759 ]\n",
            " [0.10102948]]\n"
          ]
        }
      ]
    }
  ]
}