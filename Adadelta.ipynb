{
  "nbformat": 4,
  "nbformat_minor": 0,
  "metadata": {
    "colab": {
      "provenance": [],
      "authorship_tag": "ABX9TyOe3j1qZiFdnXeZqn2p4eVy",
      "include_colab_link": true
    },
    "kernelspec": {
      "name": "python3",
      "display_name": "Python 3"
    },
    "language_info": {
      "name": "python"
    }
  },
  "cells": [
    {
      "cell_type": "markdown",
      "metadata": {
        "id": "view-in-github",
        "colab_type": "text"
      },
      "source": [
        "<a href=\"https://colab.research.google.com/github/dyutivartak/ML-II_Pracs/blob/main/Adadelta.ipynb\" target=\"_parent\"><img src=\"https://colab.research.google.com/assets/colab-badge.svg\" alt=\"Open In Colab\"/></a>"
      ]
    },
    {
      "cell_type": "code",
      "execution_count": 1,
      "metadata": {
        "id": "w5IxMRY61cYo"
      },
      "outputs": [],
      "source": [
        "import numpy as np \n",
        "import pandas as pd \n",
        "import matplotlib.pyplot as plt \n",
        "\n",
        "X = np.array([0.5, 2.5]) \n",
        "Y = np.array([0.2, 0.9])\n",
        "\n",
        "def sigmoid(x, w, b): \n",
        "  y_in = np.dot(w, x) + b \n",
        "  y_hat = 1/(1 + np.exp(-y_in)) \n",
        "  return y_hat\n",
        "\n",
        "def error(y, y_hat): \n",
        "  err = np.array((y-y_hat)**2).mean() \n",
        "  return err \n",
        "\n",
        "def delta_w(x, y, y_hat, c): \n",
        "  dw = c*(y_hat-y)*y_hat*(1-y_hat)*x\n",
        "  return dw \n",
        "\n",
        "def delta_b(y, y_hat, c): \n",
        "  db = c*(y_hat-y)*y_hat*(1-y_hat)\n",
        "  return db"
      ]
    },
    {
      "cell_type": "code",
      "source": [
        "def adadelta(X, Y, epochs): \n",
        "  w = -2 \n",
        "  b = -2 \n",
        "  c = 1 \n",
        "  beta = 0.9\n",
        "  eta = 1 \n",
        "  eps = 2  \n",
        "  vw = 0 \n",
        "  vb = 0 \n",
        "  W = [] \n",
        "  B = [] \n",
        "  err_list = [] \n",
        "  for i in range(epochs): \n",
        "    temp_dw = 0 \n",
        "    temp_db = 0 \n",
        "    for x, y in zip(X, Y): \n",
        "      y_hat = sigmoid(x, w, b) \n",
        "      temp_dw += delta_w(x, y, y_hat, c) \n",
        "      temp_db += delta_b(y, y_hat, c) \n",
        "    \n",
        "    vw = beta*vw + (1-beta)*temp_dw*temp_dw \n",
        "    vb = beta*vb + (1-beta)*temp_db*temp_db \n",
        "\n",
        "    w = w - (eta*temp_dw)/(np.sqrt(vw) + eps) \n",
        "    b = b - (eta*temp_db)/(np.sqrt(vb) + eps) \n",
        "\n",
        "    W.append(w) \n",
        "    B.append(b) \n",
        "    err_list.append(error(Y, sigmoid(X, w, b))) \n",
        "    print(f\"After epoch {i+1}: Weight is {w} and Bias is {b}\") \n",
        "  return W, B, err_list"
      ],
      "metadata": {
        "id": "gvLX7Jy71e2N"
      },
      "execution_count": 2,
      "outputs": []
    },
    {
      "cell_type": "code",
      "source": [
        "wt_adadelta, bias_adadelta, err_adadelta = adadelta(X, Y, 100)"
      ],
      "metadata": {
        "id": "baxGS7lx1m9e"
      },
      "execution_count": null,
      "outputs": []
    },
    {
      "cell_type": "code",
      "source": [
        "epoch = [i for i in range(1, 101)]"
      ],
      "metadata": {
        "id": "zY_236D01pGW"
      },
      "execution_count": 4,
      "outputs": []
    },
    {
      "cell_type": "code",
      "source": [
        "plt.plot(epoch, err_adadelta) \n",
        "plt.xlabel(\"Epoch\") \n",
        "plt.ylabel(\"Error\") \n",
        "plt.show()"
      ],
      "metadata": {
        "colab": {
          "base_uri": "https://localhost:8080/",
          "height": 279
        },
        "id": "XX-xOMi21rVI",
        "outputId": "e6696e48-f350-421b-8ffc-987443b7d9e0"
      },
      "execution_count": 5,
      "outputs": [
        {
          "output_type": "display_data",
          "data": {
            "text/plain": [
              "<Figure size 432x288 with 1 Axes>"
            ],
            "image/png": "[encoded data removed]"
          },
          "metadata": {
            "needs_background": "light"
          }
        }
      ]
    },
    {
      "cell_type": "code",
      "source": [
        "plt.plot(wt_adadelta, err_adadelta) \n",
        "plt.xlabel(\"Weights\") \n",
        "plt.ylabel(\"Error\") \n",
        "plt.show()"
      ],
      "metadata": {
        "colab": {
          "base_uri": "https://localhost:8080/",
          "height": 279
        },
        "id": "v5YdsebW1tCg",
        "outputId": "bc7641c4-8f6c-4fa7-eefe-573e1cab1b04"
      },
      "execution_count": 6,
      "outputs": [
        {
          "output_type": "display_data",
          "data": {
            "text/plain": [
              "<Figure size 432x288 with 1 Axes>"
            ],
            "image/png": "[encoded data removed]"
          },
          "metadata": {
            "needs_background": "light"
          }
        }
      ]
    }
  ]
}