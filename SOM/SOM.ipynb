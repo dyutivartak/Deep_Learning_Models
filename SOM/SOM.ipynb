{
  "nbformat": 4,
  "nbformat_minor": 0,
  "metadata": {
    "colab": {
      "provenance": [],
      "authorship_tag": "ABX9TyNJd3O+8W5vIB3VChSTXica",
      "include_colab_link": true
    },
    "kernelspec": {
      "name": "python3",
      "display_name": "Python 3"
    },
    "language_info": {
      "name": "python"
    }
  },
  "cells": [
    {
      "cell_type": "markdown",
      "metadata": {
        "id": "view-in-github",
        "colab_type": "text"
      },
      "source": [
        "<a href=\"https://colab.research.google.com/github/dyutivartak/ML-II_Pracs/blob/main/SOM.ipynb\" target=\"_parent\"><img src=\"https://colab.research.google.com/assets/colab-badge.svg\" alt=\"Open In Colab\"/></a>"
      ]
    },
    {
      "cell_type": "code",
      "execution_count": null,
      "metadata": {
        "id": "pR8TxMzdIENS"
      },
      "outputs": [],
      "source": [
        "!pip install minisom"
      ]
    },
    {
      "cell_type": "code",
      "source": [
        "import numpy as np \n",
        "import matplotlib.pyplot as plt \n",
        "import pandas as pd \n",
        "from minisom import MiniSom "
      ],
      "metadata": {
        "id": "-wF-BOX3IFoa"
      },
      "execution_count": 2,
      "outputs": []
    },
    {
      "cell_type": "code",
      "source": [
        "data = pd.read_csv('/content/drive/MyDrive/Colab Notebooks/Credit_Card_Applications.csv') \n",
        "data "
      ],
      "metadata": {
        "id": "K2ZkqF1lIHlC"
      },
      "execution_count": null,
      "outputs": []
    },
    {
      "cell_type": "code",
      "source": [
        "data.shape"
      ],
      "metadata": {
        "id": "FwCprbo2ILWZ"
      },
      "execution_count": null,
      "outputs": []
    },
    {
      "cell_type": "code",
      "source": [
        "data.info() "
      ],
      "metadata": {
        "id": "3oaq7aiAIPZn"
      },
      "execution_count": null,
      "outputs": []
    },
    {
      "cell_type": "code",
      "source": [
        "X = data.iloc[:, 1:14].values \n",
        "y = data.iloc[:, -1].values \n",
        "pd.DataFrame(X) "
      ],
      "metadata": {
        "id": "nW09e9F-IQeJ"
      },
      "execution_count": null,
      "outputs": []
    },
    {
      "cell_type": "code",
      "source": [
        "from sklearn.preprocessing import MinMaxScaler \n",
        "sc = MinMaxScaler(feature_range = (0, 1)) \n",
        "X = sc.fit_transform(X) \n",
        "pd.DataFrame(X) "
      ],
      "metadata": {
        "id": "oVyOKigLIThy"
      },
      "execution_count": null,
      "outputs": []
    },
    {
      "cell_type": "code",
      "source": [
        "som_grid_rows = 10 \n",
        "som_grid_columns = 10 \n",
        "iterations = 20000 \n",
        "sigma = 1 \n",
        "learning_rate = 0.5 \n",
        "som = MiniSom(x = som_grid_rows, y = som_grid_columns, input_len=13, sigma=sigma, learning_rate=learning_rate) \n",
        "som.random_weights_init(X) \n",
        "som.train_random(X, iterations) \n",
        "som.distance_map() "
      ],
      "metadata": {
        "id": "2mLtUaG7IUmq"
      },
      "execution_count": null,
      "outputs": []
    },
    {
      "cell_type": "code",
      "source": [
        "from pylab import plot, axis, show, pcolor, colorbar, bone \n",
        "bone() \n",
        "pcolor(som.distance_map().T)       # Distance map as background \n",
        "colorbar() \n",
        "show() \n",
        "bone() \n",
        "pcolor(som.distance_map().T) \n",
        "colorbar() #gives legend \n",
        "markers = ['o', 's']                 # if the observation is fraud then red circular color or else green square \n",
        "colors = ['r', 'g'] \n",
        "for i, x in enumerate(X): \n",
        "    w = som.winner(x) \n",
        "    plot(w[0] + 0.5, \n",
        "         w[1] + 0.5, \n",
        "         markers[y[i]], \n",
        "         markeredgecolor = colors[y[i]], \n",
        "         markerfacecolor = 'None', \n",
        "         markersize = 10, \n",
        "         markeredgewidth = 2) \n",
        "show() "
      ],
      "metadata": {
        "id": "iiUqesV4IZ3f"
      },
      "execution_count": null,
      "outputs": []
    },
    {
      "cell_type": "code",
      "source": [
        "mappings = som.win_map(X) \n",
        "mappings \n",
        "mappings.keys() \n",
        "len(mappings.keys()) \n",
        "mappings[(9,8)] \n",
        "frauds = np.concatenate((mappings[(0,9)], mappings[(8,9)]), axis = 0) \n",
        "frauds \n",
        "frauds1 = sc.inverse_transform(frauds) \n",
        "pd.DataFrame(frauds1) "
      ],
      "metadata": {
        "id": "yA6kC0lWIdXl"
      },
      "execution_count": null,
      "outputs": []
    }
  ]
}
