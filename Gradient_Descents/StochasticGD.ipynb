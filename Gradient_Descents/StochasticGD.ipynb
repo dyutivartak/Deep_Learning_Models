{
  "nbformat": 4,
  "nbformat_minor": 0,
  "metadata": {
    "colab": {
      "provenance": [],
      "authorship_tag": "ABX9TyPlHtTVT5xPPDMlaYoxbJa2",
      "include_colab_link": true
    },
    "kernelspec": {
      "name": "python3",
      "display_name": "Python 3"
    },
    "language_info": {
      "name": "python"
    }
  },
  "cells": [
    {
      "cell_type": "markdown",
      "metadata": {
        "id": "view-in-github",
        "colab_type": "text"
      },
      "source": [
        "<a href=\"https://colab.research.google.com/github/dyutivartak/ML-II_Pracs/blob/main/StochasticGD.ipynb\" target=\"_parent\"><img src=\"https://colab.research.google.com/assets/colab-badge.svg\" alt=\"Open In Colab\"/></a>"
      ]
    },
    {
      "cell_type": "code",
      "execution_count": null,
      "metadata": {
        "id": "qg7MRwAZ_RG9"
      },
      "outputs": [],
      "source": [
        "import pandas as pd\n",
        "import numpy as np\n",
        "import matplotlib.pyplot as plt\n",
        "import math"
      ]
    },
    {
      "cell_type": "code",
      "source": [
        "def func(X,w,b):\n",
        "  return np.dot(X,w) + b"
      ],
      "metadata": {
        "id": "ZxxLDqUr_VfH"
      },
      "execution_count": null,
      "outputs": []
    },
    {
      "cell_type": "code",
      "source": [
        "def sig(yin):\n",
        "  return 1/(1+ math.exp(-yin))"
      ],
      "metadata": {
        "id": "U0-qyT8D_XLZ"
      },
      "execution_count": null,
      "outputs": []
    },
    {
      "cell_type": "code",
      "source": [
        "def mse(yhat,y):\n",
        "  mse=0\n",
        "  for i in range(len(y)):\n",
        "    mse+=(yhat[i]-y[i])**2\n",
        "  return mse/2"
      ],
      "metadata": {
        "id": "xLE6V5Kd_Ya3"
      },
      "execution_count": null,
      "outputs": []
    },
    {
      "cell_type": "code",
      "source": [
        "def plot_mse(mse_list,epochs):\n",
        "  x=[i for i in range(epochs)]\n",
        "  plt.plot(x,mse_list)"
      ],
      "metadata": {
        "id": "6Mb3tq4l_Z1q"
      },
      "execution_count": null,
      "outputs": []
    },
    {
      "cell_type": "code",
      "source": [
        "def stochastic_gd (X,Y):\n",
        "  w,b,c,epoch = -2,-2,1,300\n",
        "  mse_list=[]\n",
        "  for i in range(epoch):\n",
        "    result = []\n",
        "    for x,y in zip(X,Y):\n",
        "      yhat = sig(func(x,w,b))\n",
        "      delw = c*(y-yhat)*yhat*(1-yhat)*x\n",
        "      delb = c*(y-yhat)*yhat*(1-yhat)\n",
        "      w += delw\n",
        "      b += delb\n",
        "      result.append(yhat)\n",
        "      if (len(result)==len(Y)):\n",
        "        mse_list.append(mse(result,Y))\n",
        "    #print(f\"Epoch: {i+1}\\tWeight: {w}, Bias: {b}\\t y_hat: {result}\\t MSE: {mse_list[-1]}\")\n",
        "  plot_mse(mse_list,epoch)\n",
        "  print(f\"\\n\\nFinal weights: {w}\\tBias {b}\\t\\tMean Squared Error: {mse_list[-1]}\")"
      ],
      "metadata": {
        "id": "3Q9TvVQs_b7R"
      },
      "execution_count": null,
      "outputs": []
    },
    {
      "cell_type": "code",
      "source": [
        "X = [0.5,2.5]\n",
        "Y = [0.2,0.9]\n",
        "stochastic_gd(X,Y)"
      ],
      "metadata": {
        "colab": {
          "base_uri": "https://localhost:8080/",
          "height": 319
        },
        "id": "ZqMR757Q_d__",
        "outputId": "8e529a92-e656-4af1-d5b7-69ede025733d"
      },
      "execution_count": null,
      "outputs": [
        {
          "output_type": "stream",
          "name": "stdout",
          "text": [
            "\n",
            "\n",
            "Final weights: 1.7374342738186377\tBias -2.202814158199366\t\tMean Squared Error: 5.223759084367854e-05\n"
          ]
        },
        {
          "output_type": "display_data",
          "data": {
            "text/plain": [
              "<Figure size 432x288 with 1 Axes>"
            ],
            "image/png": "[encoded data removed]"
          },
          "metadata": {
            "needs_background": "light"
          }
        }
      ]
    }
  ]
}
