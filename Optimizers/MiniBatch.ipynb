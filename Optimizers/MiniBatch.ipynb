{
  "nbformat": 4,
  "nbformat_minor": 0,
  "metadata": {
    "colab": {
      "provenance": [],
      "authorship_tag": "ABX9TyOFm3Zsl0B/wT9IhlqoHudI",
      "include_colab_link": true
    },
    "kernelspec": {
      "name": "python3",
      "display_name": "Python 3"
    },
    "language_info": {
      "name": "python"
    }
  },
  "cells": [
    {
      "cell_type": "markdown",
      "metadata": {
        "id": "view-in-github",
        "colab_type": "text"
      },
      "source": [
        "<a href=\"https://colab.research.google.com/github/dyutivartak/ML-II_Pracs/blob/main/MiniBatch.ipynb\" target=\"_parent\"><img src=\"https://colab.research.google.com/assets/colab-badge.svg\" alt=\"Open In Colab\"/></a>"
      ]
    },
    {
      "cell_type": "code",
      "execution_count": 1,
      "metadata": {
        "id": "g0dTjSI1vgGJ"
      },
      "outputs": [],
      "source": [
        "import numpy as np \n",
        "import pandas as pd \n",
        "import matplotlib.pyplot as plt \n",
        "\n",
        "X = np.array([0.5, 2.5]) \n",
        "Y = np.array([0.2, 0.9])\n",
        "\n",
        "def sigmoid(x, w, b): \n",
        "  y_in = np.dot(w, x) + b \n",
        "  y_hat = 1/(1 + np.exp(-y_in)) \n",
        "  return y_hat\n",
        "\n",
        "def error(y, y_hat): \n",
        "  err = np.array((y-y_hat)**2).mean() \n",
        "  return err \n",
        "\n",
        "def delta_w(x, y, y_hat, c): \n",
        "  dw = c*(y_hat-y)*y_hat*(1-y_hat)*x\n",
        "  return dw \n",
        "\n",
        "def delta_b(y, y_hat, c): \n",
        "  db = c*(y_hat-y)*y_hat*(1-y_hat)\n",
        "  return db"
      ]
    },
    {
      "cell_type": "code",
      "source": [
        "def mini_batch_gd(X, Y, epochs): \n",
        "  batch_size = 1 \n",
        "  w = -2 \n",
        "  b = -2 \n",
        "  c = 1 \n",
        "  err_list = [] \n",
        "  W = [] \n",
        "  B = [] \n",
        "  for i in range(epochs): \n",
        "    temp_dw = 0 \n",
        "    temp_db = 0 \n",
        "    counter = 0\n",
        "    for x, y in zip(X, Y): \n",
        "      y_hat = sigmoid(x, w, b) \n",
        "      temp_dw += delta_w(x, y, y_hat, c) \n",
        "      temp_db += delta_b(y, y_hat, c) \n",
        "      counter += 1 \n",
        "      if(counter % batch_size == 0):  \n",
        "        w += temp_dw \n",
        "        b += temp_db \n",
        "    W.append(w) \n",
        "    B.append(b) \n",
        "    err_list.append(error(Y, sigmoid(X, w, b)))\n",
        "    print(f\"After epoch {i+1}: Weight ==> {w} and Bias ==> {b}\") \n",
        "  \n",
        "  return W, B, err_list"
      ],
      "metadata": {
        "id": "jPetpsPpvoKr"
      },
      "execution_count": 2,
      "outputs": []
    },
    {
      "cell_type": "code",
      "source": [
        "wt_mb, bias_mb, err_mb = mini_batch_gd(X, Y, 100)"
      ],
      "metadata": {
        "id": "udfr5FDwvtDY"
      },
      "execution_count": null,
      "outputs": []
    },
    {
      "cell_type": "code",
      "source": [
        "epoch = [i for i in range(1, 101)]"
      ],
      "metadata": {
        "id": "9sGLggdvv671"
      },
      "execution_count": 5,
      "outputs": []
    },
    {
      "cell_type": "code",
      "source": [
        "plt.plot(epoch, err_mb) \n",
        "plt.xlabel(\"Epochs\") \n",
        "plt.ylabel(\"Error\") \n",
        "plt.show()"
      ],
      "metadata": {
        "colab": {
          "base_uri": "https://localhost:8080/",
          "height": 279
        },
        "id": "2yRzfEubvwA2",
        "outputId": "a45fda1a-aa00-4c97-ae84-137addd061a9"
      },
      "execution_count": 6,
      "outputs": [
        {
          "output_type": "display_data",
          "data": {
            "text/plain": [
              "<Figure size 432x288 with 1 Axes>"
            ],
            "image/png": "[encoded data removed]"
          },
          "metadata": {
            "needs_background": "light"
          }
        }
      ]
    },
    {
      "cell_type": "code",
      "source": [
        "plt.plot(wt_mb, err_mb) \n",
        "plt.xlabel(\"Weights\") \n",
        "plt.ylabel(\"Error\") \n",
        "plt.show()"
      ],
      "metadata": {
        "colab": {
          "base_uri": "https://localhost:8080/",
          "height": 279
        },
        "id": "YpW3EQixvyxN",
        "outputId": "40cd44f9-f79d-452f-f869-720a0ece97a8"
      },
      "execution_count": 7,
      "outputs": [
        {
          "output_type": "display_data",
          "data": {
            "text/plain": [
              "<Figure size 432x288 with 1 Axes>"
            ],
            "image/png": "[encoded data removed]"
          },
          "metadata": {
            "needs_background": "light"
          }
        }
      ]
    }
  ]
}
