{
  "nbformat": 4,
  "nbformat_minor": 0,
  "metadata": {
    "colab": {
      "provenance": [],
      "authorship_tag": "ABX9TyN9URcOC7qugmeNSxG8ECvb",
      "include_colab_link": true
    },
    "kernelspec": {
      "name": "python3",
      "display_name": "Python 3"
    },
    "language_info": {
      "name": "python"
    }
  },
  "cells": [
    {
      "cell_type": "markdown",
      "metadata": {
        "id": "view-in-github",
        "colab_type": "text"
      },
      "source": [
        "<a href=\"https://colab.research.google.com/github/dyutivartak/ML-II_Pracs/blob/main/Adam.ipynb\" target=\"_parent\"><img src=\"https://colab.research.google.com/assets/colab-badge.svg\" alt=\"Open In Colab\"/></a>"
      ]
    },
    {
      "cell_type": "code",
      "execution_count": 1,
      "metadata": {
        "id": "wdZrmbAO3uwi"
      },
      "outputs": [],
      "source": [
        "import numpy as np \n",
        "import pandas as pd \n",
        "import matplotlib.pyplot as plt \n",
        "\n",
        "X = np.array([0.5, 2.5]) \n",
        "Y = np.array([0.2, 0.9])\n",
        "\n",
        "def sigmoid(x, w, b): \n",
        "  y_in = np.dot(w, x) + b \n",
        "  y_hat = 1/(1 + np.exp(-y_in)) \n",
        "  return y_hat\n",
        "\n",
        "def error(y, y_hat): \n",
        "  err = np.array((y-y_hat)**2).mean() \n",
        "  return err \n",
        "\n",
        "def delta_w(x, y, y_hat, c): \n",
        "  dw = c*(y_hat-y)*y_hat*(1-y_hat)*x\n",
        "  return dw \n",
        "\n",
        "def delta_b(y, y_hat, c): \n",
        "  db = c*(y_hat-y)*y_hat*(1-y_hat)\n",
        "  return db"
      ]
    },
    {
      "cell_type": "code",
      "source": [
        "def adam_gd(X, Y, epochs): \n",
        "  w, b, c = -2, -2, 1 \n",
        "  beta1, beta2 = 0.45, 0.85\n",
        "  eta = 1 \n",
        "  mt_w, mt_b = 0, 0 \n",
        "  vt_w, vt_b = 0, 0\n",
        "  eps = 2 \n",
        "  err_list = [] \n",
        "  W = [] \n",
        "  B = [] \n",
        "  for i in range(1, epochs+1): \n",
        "    temp_dw = 0 \n",
        "    temp_db = 0 \n",
        "    for x, y in zip(X, Y): \n",
        "      y_hat = sigmoid(x, w, b)\n",
        "      temp_dw += delta_w(x, y, y_hat, c) \n",
        "      temp_db += delta_b(y, y_hat, c) \n",
        "    \n",
        "    mt_w = beta1*mt_w + (1-beta1)*temp_dw\n",
        "    mt_b = beta1*mt_b + (1-beta1)*temp_db \n",
        "\n",
        "    vt_w = beta2*vt_w + (1-beta2)*temp_dw*temp_dw\n",
        "    vt_b = beta2*vt_b + (1-beta2)*temp_db*temp_db \n",
        "\n",
        "    mt_hat_w = mt_w/(1-beta1**i) \n",
        "    vt_hat_w = vt_w/(1-beta2**i) \n",
        "    w = w - (eta*mt_hat_w)/(np.sqrt(vt_hat_w) + eps)\n",
        "\n",
        "    mt_hat_b = mt_b/(1-beta1**i) \n",
        "    vt_hat_b = vt_b/(1-beta2**i) \n",
        "    b = b - (eta*mt_hat_b)/(np.sqrt(vt_hat_b) + eps)\n",
        "\n",
        "    W.append(w) \n",
        "    B.append(b) \n",
        "\n",
        "    err_list.append(error(Y, sigmoid(X, w, b)))\n",
        "    print(f\"After epoch {i+1}: Weight is {w} and Bias is {b}\") \n",
        "  return W, B, err_list"
      ],
      "metadata": {
        "id": "anSGT7ZZ4W88"
      },
      "execution_count": 2,
      "outputs": []
    },
    {
      "cell_type": "code",
      "source": [
        "wt_adam, bias_adam, err_adam = adam_gd(X, Y, 100)"
      ],
      "metadata": {
        "id": "hGf42xUk4Y-G"
      },
      "execution_count": null,
      "outputs": []
    },
    {
      "cell_type": "code",
      "source": [
        "epoch = [i for i in range(1, 101)]"
      ],
      "metadata": {
        "id": "m4-ZFY-55aSF"
      },
      "execution_count": 5,
      "outputs": []
    },
    {
      "cell_type": "code",
      "source": [
        "plt.plot(epoch, err_adam) \n",
        "plt.xlabel(\"Epoch\") \n",
        "plt.ylabel(\"Error\") \n",
        "plt.show()"
      ],
      "metadata": {
        "colab": {
          "base_uri": "https://localhost:8080/",
          "height": 279
        },
        "id": "NTm2aokY5dwp",
        "outputId": "6944d7d4-6ec0-438f-d254-9fa8f763dcc3"
      },
      "execution_count": 6,
      "outputs": [
        {
          "output_type": "display_data",
          "data": {
            "text/plain": [
              "<Figure size 432x288 with 1 Axes>"
            ],
            "image/png": "[encoded data removed]"
          },
          "metadata": {
            "needs_background": "light"
          }
        }
      ]
    },
    {
      "cell_type": "code",
      "source": [
        "plt.plot(wt_adam, err_adam) \n",
        "plt.xlabel(\"Weights\") \n",
        "plt.ylabel(\"Error\") \n",
        "plt.show()"
      ],
      "metadata": {
        "colab": {
          "base_uri": "https://localhost:8080/",
          "height": 279
        },
        "id": "JT0arkux5ga5",
        "outputId": "56a03033-a235-47e6-93a9-ca39fc0f58be"
      },
      "execution_count": 7,
      "outputs": [
        {
          "output_type": "display_data",
          "data": {
            "text/plain": [
              "<Figure size 432x288 with 1 Axes>"
            ],
            "image/png": "[encoded data removed]"
          },
          "metadata": {
            "needs_background": "light"
          }
        }
      ]
    }
  ]
}