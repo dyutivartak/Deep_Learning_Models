{
  "nbformat": 4,
  "nbformat_minor": 0,
  "metadata": {
    "colab": {
      "provenance": [],
      "authorship_tag": "ABX9TyPBYbK8PqmduWrzErUw11be",
      "include_colab_link": true
    },
    "kernelspec": {
      "name": "python3",
      "display_name": "Python 3"
    },
    "language_info": {
      "name": "python"
    }
  },
  "cells": [
    {
      "cell_type": "markdown",
      "metadata": {
        "id": "view-in-github",
        "colab_type": "text"
      },
      "source": [
        "<a href=\"https://colab.research.google.com/github/dyutivartak/ML-II_Pracs/blob/main/AdaGradOptimizer.ipynb\" target=\"_parent\"><img src=\"https://colab.research.google.com/assets/colab-badge.svg\" alt=\"Open In Colab\"/></a>"
      ]
    },
    {
      "cell_type": "code",
      "execution_count": 1,
      "metadata": {
        "id": "B-af-7h2zEPq"
      },
      "outputs": [],
      "source": [
        "import numpy as np \n",
        "import pandas as pd \n",
        "import matplotlib.pyplot as plt \n",
        "\n",
        "X = np.array([0.5, 2.5]) \n",
        "Y = np.array([0.2, 0.9])\n",
        "\n",
        "def sigmoid(x, w, b): \n",
        "  y_in = np.dot(w, x) + b \n",
        "  y_hat = 1/(1 + np.exp(-y_in)) \n",
        "  return y_hat\n",
        "\n",
        "def error(y, y_hat): \n",
        "  err = np.array((y-y_hat)**2).mean() \n",
        "  return err \n",
        "\n",
        "def delta_w(x, y, y_hat, c): \n",
        "  dw = c*(y_hat-y)*y_hat*(1-y_hat)*x\n",
        "  return dw \n",
        "\n",
        "def delta_b(y, y_hat, c): \n",
        "  db = c*(y_hat-y)*y_hat*(1-y_hat)\n",
        "  return db"
      ]
    },
    {
      "cell_type": "code",
      "source": [
        "def adagrad_gd(X, Y, epochs): \n",
        "  w = -2 \n",
        "  b = -2 \n",
        "  c = 1 \n",
        "  eta = 1 \n",
        "  eps = 2 \n",
        "  err_list = [] \n",
        "  W = [] \n",
        "  B = [] \n",
        "  v_w = 0 \n",
        "  v_b = 0 \n",
        "  for i in range(epochs): \n",
        "    temp_dw = 0 \n",
        "    temp_db = 0 \n",
        "    for x, y in zip(X, Y): \n",
        "      y_hat = sigmoid(x, w, b)\n",
        "      temp_dw += delta_w(x, y, y_hat, c) \n",
        "      temp_db += delta_b(y, y_hat, c) \n",
        "\n",
        "    v_w = v_w + temp_dw**2 \n",
        "    v_b = v_b + temp_db**2 \n",
        "\n",
        "    w = w - (eta*temp_dw)/(np.sqrt(v_w + eps)) \n",
        "    b = b - (eta*temp_db)/(np.sqrt(v_w + eps)) \n",
        "\n",
        "    W.append(w) \n",
        "    B.append(b) \n",
        "    err_list.append(error(Y, sigmoid(X, w, b))) \n",
        "    print(f\"After epoch {i+1}: Weight is {w} and Bias is {w}\") \n",
        "  return W, B, err_list"
      ],
      "metadata": {
        "id": "gr0vPApxzMjd"
      },
      "execution_count": 2,
      "outputs": []
    },
    {
      "cell_type": "code",
      "source": [
        "wt_adagrad, bias_adagrad, err_adagrad = adagrad_gd(X, Y, 100)"
      ],
      "metadata": {
        "id": "A9vjhwPlzUw9"
      },
      "execution_count": null,
      "outputs": []
    },
    {
      "cell_type": "code",
      "source": [
        "epoch = [i for i in range(1, 101)]"
      ],
      "metadata": {
        "id": "u9RzKAzwzddD"
      },
      "execution_count": 5,
      "outputs": []
    },
    {
      "cell_type": "code",
      "source": [
        "plt.plot(epoch, err_adagrad) \n",
        "plt.xlabel(\"Epoch\") \n",
        "plt.ylabel(\"Error\") \n",
        "plt.show()"
      ],
      "metadata": {
        "colab": {
          "base_uri": "https://localhost:8080/",
          "height": 279
        },
        "id": "nDQXQBdjzWvg",
        "outputId": "6fa4ca11-2abe-4ffa-fc0d-6fdbf3495e1e"
      },
      "execution_count": 6,
      "outputs": [
        {
          "output_type": "display_data",
          "data": {
            "text/plain": [
              "<Figure size 432x288 with 1 Axes>"
            ],
            "image/png": "[encoded data removed]"
          },
          "metadata": {
            "needs_background": "light"
          }
        }
      ]
    },
    {
      "cell_type": "code",
      "source": [
        "plt.plot(wt_adagrad, err_adagrad) \n",
        "plt.xlabel(\"Weight\") \n",
        "plt.ylabel(\"Error\") \n",
        "plt.show()"
      ],
      "metadata": {
        "colab": {
          "base_uri": "https://localhost:8080/",
          "height": 279
        },
        "id": "Tb0YlXbvzYYt",
        "outputId": "f2fe9fde-fe22-48eb-8658-83e3062ab89e"
      },
      "execution_count": 7,
      "outputs": [
        {
          "output_type": "display_data",
          "data": {
            "text/plain": [
              "<Figure size 432x288 with 1 Axes>"
            ],
            "image/png": "[encoded data removed]"
          },
          "metadata": {
            "needs_background": "light"
          }
        }
      ]
    }
  ]
}