{
  "nbformat": 4,
  "nbformat_minor": 0,
  "metadata": {
    "colab": {
      "provenance": [],
      "authorship_tag": "ABX9TyPzqKsA9xn76Eo3JbbDvySX",
      "include_colab_link": true
    },
    "kernelspec": {
      "name": "python3",
      "display_name": "Python 3"
    },
    "language_info": {
      "name": "python"
    }
  },
  "cells": [
    {
      "cell_type": "markdown",
      "metadata": {
        "id": "view-in-github",
        "colab_type": "text"
      },
      "source": [
        "<a href=\"https://colab.research.google.com/github/dyutivartak/ML-II_Pracs/blob/main/NAG.ipynb\" target=\"_parent\"><img src=\"https://colab.research.google.com/assets/colab-badge.svg\" alt=\"Open In Colab\"/></a>"
      ]
    },
    {
      "cell_type": "code",
      "execution_count": 1,
      "metadata": {
        "id": "X9zCy_Q76M6j"
      },
      "outputs": [],
      "source": [
        "import numpy as np \n",
        "import pandas as pd \n",
        "import matplotlib.pyplot as plt \n",
        "\n",
        "X = np.array([0.5, 2.5]) \n",
        "Y = np.array([0.2, 0.9])\n",
        "\n",
        "def sigmoid(x, w, b): \n",
        "  y_in = np.dot(w, x) + b \n",
        "  y_hat = 1/(1 + np.exp(-y_in)) \n",
        "  return y_hat\n",
        "\n",
        "def error(y, y_hat): \n",
        "  err = np.array((y-y_hat)**2).mean() \n",
        "  return err \n",
        "\n",
        "def delta_w(x, y, y_hat, c): \n",
        "  dw = c*(y_hat-y)*y_hat*(1-y_hat)*x\n",
        "  return dw \n",
        "\n",
        "def delta_b(y, y_hat, c): \n",
        "  db = c*(y_hat-y)*y_hat*(1-y_hat)\n",
        "  return db"
      ]
    },
    {
      "cell_type": "code",
      "source": [
        "def nag_gd(X, Y, epochs): \n",
        "  w = -2 \n",
        "  b = -2 \n",
        "  c = 1 \n",
        "  eta = 1 \n",
        "  beta = 0.9 \n",
        "  W = [] \n",
        "  B = [] \n",
        "  err_list = [] \n",
        "  prev_vw = 0 \n",
        "  prev_vb = 0 \n",
        "  for i in range(epochs): \n",
        "    temp_dw = 0\n",
        "    temp_db = 0 \n",
        "    vw = w - beta*prev_vw  \n",
        "    vb = b - beta*prev_vb \n",
        "    for x, y in zip(X, Y): \n",
        "      y_hat = sigmoid(x, vw, vb) \n",
        "      temp_dw += delta_w(x, y, y_hat, c) \n",
        "      temp_db += delta_b(y, y_hat, c) \n",
        "    v_w = beta*prev_vw + eta*temp_dw \n",
        "    v_b = beta*prev_vb + eta*temp_db \n",
        "\n",
        "    w = w - v_w \n",
        "    b = b - v_b \n",
        "    prev_vw = vw \n",
        "    prev_vb = vb \n",
        "    W.append(w) \n",
        "    B.append(b) \n",
        "    err_list.append(error(Y, sigmoid(X, w, b)))\n",
        "    print(f\"After epoch {i+1}: Weight is {w} and Bias is {b}\") \n",
        "  return W, B, err_list"
      ],
      "metadata": {
        "id": "HEJoKHLW6Ys5"
      },
      "execution_count": 2,
      "outputs": []
    },
    {
      "cell_type": "code",
      "source": [
        "wt_nag, bias_nag, err_nag = nag_gd(X, Y, 100)"
      ],
      "metadata": {
        "id": "W4UOS3g36pJd"
      },
      "execution_count": null,
      "outputs": []
    },
    {
      "cell_type": "code",
      "source": [
        "epoch = [i for i in range(1, 101)]"
      ],
      "metadata": {
        "id": "QZipMPfI6qiw"
      },
      "execution_count": 4,
      "outputs": []
    },
    {
      "cell_type": "code",
      "source": [
        "plt.plot(epoch, err_nag) \n",
        "plt.xlabel(\"Epoch\") \n",
        "plt.ylabel(\"Error\") \n",
        "plt.show()"
      ],
      "metadata": {
        "colab": {
          "base_uri": "https://localhost:8080/",
          "height": 279
        },
        "id": "Xk9iYZUh6sas",
        "outputId": "d5da1640-b49f-477e-ae83-90c2dc368993"
      },
      "execution_count": 5,
      "outputs": [
        {
          "output_type": "display_data",
          "data": {
            "text/plain": [
              "<Figure size 432x288 with 1 Axes>"
            ],
            "image/png": "[encoded data removed]"
          },
          "metadata": {
            "needs_background": "light"
          }
        }
      ]
    },
    {
      "cell_type": "code",
      "source": [
        "plt.plot(wt_nag, err_nag) \n",
        "plt.xlabel(\"Epoch\") \n",
        "plt.ylabel(\"Error\") \n",
        "plt.show()"
      ],
      "metadata": {
        "colab": {
          "base_uri": "https://localhost:8080/",
          "height": 279
        },
        "id": "AkM2VR5W6uVA",
        "outputId": "1bcfa692-91b8-4cf6-b605-dfdc4ab190f7"
      },
      "execution_count": 6,
      "outputs": [
        {
          "output_type": "display_data",
          "data": {
            "text/plain": [
              "<Figure size 432x288 with 1 Axes>"
            ],
            "image/png": "[encoded data removed]"
          },
          "metadata": {
            "needs_background": "light"
          }
        }
      ]
    }
  ]
}