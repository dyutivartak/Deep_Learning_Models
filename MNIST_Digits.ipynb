{
  "nbformat": 4,
  "nbformat_minor": 0,
  "metadata": {
    "colab": {
      "provenance": [],
      "authorship_tag": "ABX9TyNyF02w5FJBfRtMeBCgM2rn",
      "include_colab_link": true
    },
    "kernelspec": {
      "name": "python3",
      "display_name": "Python 3"
    },
    "language_info": {
      "name": "python"
    }
  },
  "cells": [
    {
      "cell_type": "markdown",
      "metadata": {
        "id": "view-in-github",
        "colab_type": "text"
      },
      "source": [
        "<a href=\"https://colab.research.google.com/github/dyutivartak/ML-II_Pracs/blob/main/MNIST_Digits.ipynb\" target=\"_parent\"><img src=\"https://colab.research.google.com/assets/colab-badge.svg\" alt=\"Open In Colab\"/></a>"
      ]
    },
    {
      "cell_type": "code",
      "execution_count": 1,
      "metadata": {
        "id": "ycdtVMWTCnxQ"
      },
      "outputs": [],
      "source": [
        "import keras\n",
        "import cv2\n",
        "import numpy as np\n",
        "from keras.datasets import mnist\n",
        "from keras.models import Sequential , load_model\n",
        "from keras.layers import Dense, Dropout, Flatten, Conv2D, MaxPooling2D\n",
        "import matplotlib.pyplot as plt\n",
        "from keras.utils.vis_utils import plot_model"
      ]
    },
    {
      "cell_type": "code",
      "source": [
        "(x_train, y_train), (x_test, y_test) = mnist.load_data()\n",
        "x_train= x_train.reshape(60000,28,28)\n",
        "x_test= x_test.reshape(x_test.shape[0],28,28)\n",
        "input_shape=(28,28,1)\n",
        "y_train=keras.utils.to_categorical(y_train,10)\n",
        "y_test=keras.utils.to_categorical(y_test,10)\n",
        "x_train= x_train.astype('float32')\n",
        "x_test= x_test.astype('float32')\n",
        "for i in range(10):\n",
        "  plt.imshow(x_train[i])\n",
        "  plt.subplot(5,2,i+1)"
      ],
      "metadata": {
        "colab": {
          "base_uri": "https://localhost:8080/",
          "height": 305
        },
        "id": "v9TYLa5ZCrBH",
        "outputId": "b3e93bef-bef3-4fdf-ddf1-d5149f8d9d95"
      },
      "execution_count": 2,
      "outputs": [
        {
          "output_type": "stream",
          "name": "stdout",
          "text": [
            "Downloading data from https://storage.googleapis.com/tensorflow/tf-keras-datasets/mnist.npz\n",
            "11490434/11490434 [==============================] - 0s 0us/step\n"
          ]
        },
        {
          "output_type": "display_data",
          "data": {
            "text/plain": [
              "<Figure size 432x288 with 10 Axes>"
            ],
            "image/png": "[encoded data removed]"
          },
          "metadata": {
            "needs_background": "light"
          }
        }
      ]
    },
    {
      "cell_type": "code",
      "source": [
        "x_train /= 255\n",
        "x_test /=255\n",
        "batch_size=64 \n",
        "num_classes=10\n",
        "epochs=2\n",
        "\n",
        "def build_model(optimizer): \n",
        "  model=Sequential()\n",
        "  model.add(Conv2D(32,kernel_size=(3,3),activation='relu',input_shape=input_shape)) \n",
        "  model.add(MaxPooling2D(pool_size=(2,2))) \n",
        "  model.add(Conv2D(32,kernel_size=(3,3),activation='relu')) \n",
        "  model.add(MaxPooling2D(pool_size=(2,2))) \n",
        "  model.add(Dropout(0.25)) \n",
        "  model.add(Flatten()) \n",
        "  model.add(Dense(256, activation='relu')) \n",
        "  model.add(Dropout(0.5)) \n",
        "  model.add(Dense(num_classes, activation='softmax')) \n",
        "  model.compile(loss=keras.losses.categorical_crossentropy, optimizer= optimizer, metrics=['accuracy']) \n",
        "  model.summary()\n",
        "  return model \n",
        "\n",
        "model = build_model('Adam') \n",
        "plot_model(model, to_file=\"mnist model\"+ '.jpg', show_shapes=True)\n",
        "hist=model.fit(x_train, y_train, batch_size=batch_size, epochs=epochs, verbose=1, validation_data=(x_test,y_test)) "
      ],
      "metadata": {
        "colab": {
          "base_uri": "https://localhost:8080/"
        },
        "id": "zcif8Se_CyUO",
        "outputId": "4a4af098-856f-4c77-96a1-50c27a92b297"
      },
      "execution_count": 3,
      "outputs": [
        {
          "output_type": "stream",
          "name": "stdout",
          "text": [
            "Model: \"sequential\"\n",
            "_________________________________________________________________\n",
            " Layer (type)                Output Shape              Param #   \n",
            "=================================================================\n",
            " conv2d (Conv2D)             (None, 26, 26, 32)        320       \n",
            "                                                                 \n",
            " max_pooling2d (MaxPooling2D  (None, 13, 13, 32)       0         \n",
            " )                                                               \n",
            "                                                                 \n",
            " conv2d_1 (Conv2D)           (None, 11, 11, 32)        9248      \n",
            "                                                                 \n",
            " max_pooling2d_1 (MaxPooling  (None, 5, 5, 32)         0         \n",
            " 2D)                                                             \n",
            "                                                                 \n",
            " dropout (Dropout)           (None, 5, 5, 32)          0         \n",
            "                                                                 \n",
            " flatten (Flatten)           (None, 800)               0         \n",
            "                                                                 \n",
            " dense (Dense)               (None, 256)               205056    \n",
            "                                                                 \n",
            " dropout_1 (Dropout)         (None, 256)               0         \n",
            "                                                                 \n",
            " dense_1 (Dense)             (None, 10)                2570      \n",
            "                                                                 \n",
            "=================================================================\n",
            "Total params: 217,194\n",
            "Trainable params: 217,194\n",
            "Non-trainable params: 0\n",
            "_________________________________________________________________\n",
            "Epoch 1/2\n",
            "938/938 [==============================] - 56s 59ms/step - loss: 0.2483 - accuracy: 0.9228 - val_loss: 0.0537 - val_accuracy: 0.9830\n",
            "Epoch 2/2\n",
            "938/938 [==============================] - 53s 56ms/step - loss: 0.0824 - accuracy: 0.9742 - val_loss: 0.0331 - val_accuracy: 0.9891\n"
          ]
        }
      ]
    },
    {
      "cell_type": "code",
      "source": [
        "y1=hist.history['accuracy']\n",
        "y2=hist.history['val_accuracy']\n",
        "plt.plot(y1)\n",
        "plt.plot(y2)"
      ],
      "metadata": {
        "colab": {
          "base_uri": "https://localhost:8080/",
          "height": 283
        },
        "id": "NXfNjOBjC5ZV",
        "outputId": "1032a89d-22c7-4873-d1e5-897c86fd7e33"
      },
      "execution_count": 4,
      "outputs": [
        {
          "output_type": "execute_result",
          "data": {
            "text/plain": [
              "[<matplotlib.lines.Line2D at 0x7fc74ce37940>]"
            ]
          },
          "metadata": {},
          "execution_count": 4
        },
        {
          "output_type": "display_data",
          "data": {
            "text/plain": [
              "<Figure size 432x288 with 1 Axes>"
            ],
            "image/png": "[encoded data removed]"
          },
          "metadata": {
            "needs_background": "light"
          }
        }
      ]
    },
    {
      "cell_type": "code",
      "source": [
        "keras.models.save_model(model, \"mnist.h5\", save_format=\"h5\")\n",
        "def predict_image(model, img):\n",
        "  img = np.reshape(img,(1, 28, 28))\n",
        "  pred = model.predict(img)\n",
        "  img = img.astype('float32')\n",
        "  img /=255\n",
        "  print(pred)\n",
        "  answer = np.argmax(pred)\n",
        "  print(answer)\n",
        "\n",
        "m = load_model('/content/mnist.h5')\n",
        "predict_image(m, x_test[7])\n",
        "plt.imshow(x_test[7],cmap='gray')"
      ],
      "metadata": {
        "colab": {
          "base_uri": "https://localhost:8080/",
          "height": 355
        },
        "id": "dfrbYoVqC7pm",
        "outputId": "697888be-20de-425c-941a-71d124e27692"
      },
      "execution_count": 5,
      "outputs": [
        {
          "output_type": "stream",
          "name": "stdout",
          "text": [
            "1/1 [==============================] - 0s 97ms/step\n",
            "[[7.7067574e-07 4.0675792e-07 8.1097132e-06 1.7618138e-05 3.1426996e-03\n",
            "  2.5384521e-05 4.4820396e-08 3.3095328e-06 1.2166217e-03 9.9558496e-01]]\n",
            "9\n"
          ]
        },
        {
          "output_type": "execute_result",
          "data": {
            "text/plain": [
              "<matplotlib.image.AxesImage at 0x7fc74cd84d30>"
            ]
          },
          "metadata": {},
          "execution_count": 5
        },
        {
          "output_type": "display_data",
          "data": {
            "text/plain": [
              "<Figure size 432x288 with 1 Axes>"
            ],
            "image/png": "[encoded data removed]"
          },
          "metadata": {
            "needs_background": "light"
          }
        }
      ]
    }
  ]
}